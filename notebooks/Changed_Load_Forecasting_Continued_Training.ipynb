{
  "cells": [
    {
      "cell_type": "markdown",
      "id": "c7c2ddff",
      "metadata": {
        "id": "c7c2ddff",
        "papermill": {
          "duration": 0.008201,
          "end_time": "2024-06-22T14:55:25.009658",
          "exception": false,
          "start_time": "2024-06-22T14:55:25.001457",
          "status": "completed"
        },
        "tags": []
      },
      "source": [
        "\n",
        "\n",
        "**Importing all the required libraries**"
      ]
    },
    {
      "cell_type": "code",
      "execution_count": 1,
      "id": "41f1e7f9",
      "metadata": {
        "execution": {
          "iopub.execute_input": "2024-06-22T14:55:25.027858Z",
          "iopub.status.busy": "2024-06-22T14:55:25.026837Z",
          "iopub.status.idle": "2024-06-22T14:55:41.215067Z",
          "shell.execute_reply": "2024-06-22T14:55:41.213994Z"
        },
        "id": "41f1e7f9",
        "papermill": {
          "duration": 16.200215,
          "end_time": "2024-06-22T14:55:41.217909",
          "exception": false,
          "start_time": "2024-06-22T14:55:25.017694",
          "status": "completed"
        },
        "tags": []
      },
      "outputs": [
        {
          "name": "stderr",
          "output_type": "stream",
          "text": [
            "2024-07-05 20:10:40.117292: I external/local_tsl/tsl/cuda/cudart_stub.cc:32] Could not find cuda drivers on your machine, GPU will not be used.\n",
            "2024-07-05 20:10:40.119948: I external/local_tsl/tsl/cuda/cudart_stub.cc:32] Could not find cuda drivers on your machine, GPU will not be used.\n",
            "2024-07-05 20:10:40.128732: E external/local_xla/xla/stream_executor/cuda/cuda_fft.cc:479] Unable to register cuFFT factory: Attempting to register factory for plugin cuFFT when one has already been registered\n",
            "2024-07-05 20:10:40.145777: E external/local_xla/xla/stream_executor/cuda/cuda_dnn.cc:10575] Unable to register cuDNN factory: Attempting to register factory for plugin cuDNN when one has already been registered\n",
            "2024-07-05 20:10:40.145800: E external/local_xla/xla/stream_executor/cuda/cuda_blas.cc:1442] Unable to register cuBLAS factory: Attempting to register factory for plugin cuBLAS when one has already been registered\n",
            "2024-07-05 20:10:40.157150: I tensorflow/core/platform/cpu_feature_guard.cc:210] This TensorFlow binary is optimized to use available CPU instructions in performance-critical operations.\n",
            "To enable the following instructions: AVX2 FMA, in other operations, rebuild TensorFlow with the appropriate compiler flags.\n",
            "2024-07-05 20:10:41.083339: W tensorflow/compiler/tf2tensorrt/utils/py_utils.cc:38] TF-TRT Warning: Could not find TensorRT\n"
          ]
        }
      ],
      "source": [
        "# Importing the libraries\n",
        "import numpy as np\n",
        "import matplotlib.pyplot as plt\n",
        "plt.style.use('fivethirtyeight')\n",
        "import pandas as pd\n",
        "from sklearn.preprocessing import MinMaxScaler\n",
        "from keras.models import Sequential\n",
        "from keras.layers import Dense, LSTM, Dropout, GRU, Bidirectional\n",
        "from keras.optimizers import SGD\n",
        "import math\n",
        "from sklearn.metrics import mean_squared_error\n",
        "import zipfile\n",
        "from statsmodels.tsa.seasonal import seasonal_decompose"
      ]
    },
    {
      "cell_type": "code",
      "execution_count": null,
      "id": "8cb786cb",
      "metadata": {
        "execution": {
          "iopub.execute_input": "2024-06-22T14:55:41.236187Z",
          "iopub.status.busy": "2024-06-22T14:55:41.235516Z",
          "iopub.status.idle": "2024-06-22T14:55:42.267088Z",
          "shell.execute_reply": "2024-06-22T14:55:42.265766Z"
        },
        "id": "8cb786cb",
        "outputId": "f6652bfd-9717-4718-c385-cc25afe55824",
        "papermill": {
          "duration": 1.04363,
          "end_time": "2024-06-22T14:55:42.269810",
          "exception": false,
          "start_time": "2024-06-22T14:55:41.226180",
          "status": "completed"
        },
        "tags": []
      },
      "outputs": [
        {
          "name": "stdout",
          "output_type": "stream",
          "text": [
            "unzip:  cannot find or open /content/archive.zip, /content/archive.zip.zip or /content/archive.zip.ZIP.\r\n"
          ]
        }
      ],
      "source": [
        "!unzip /content/archive.zip"
      ]
    },
    {
      "cell_type": "code",
      "execution_count": 2,
      "id": "6f71b51e",
      "metadata": {
        "execution": {
          "iopub.execute_input": "2024-06-22T14:55:42.288669Z",
          "iopub.status.busy": "2024-06-22T14:55:42.288054Z",
          "iopub.status.idle": "2024-06-22T14:55:42.296223Z",
          "shell.execute_reply": "2024-06-22T14:55:42.294945Z"
        },
        "id": "6f71b51e",
        "papermill": {
          "duration": 0.020181,
          "end_time": "2024-06-22T14:55:42.298721",
          "exception": false,
          "start_time": "2024-06-22T14:55:42.278540",
          "status": "completed"
        },
        "tags": []
      },
      "outputs": [],
      "source": [
        "# Some functions to help out with\n",
        "def plot_predictions(test,predicted):\n",
        "    plt.plot(test, color='red',label='Real Demand')\n",
        "    plt.plot(predicted, color='green',label='Predicted Demand')\n",
        "    plt.title('Demand Prediction')\n",
        "    plt.xlabel('Time')\n",
        "    plt.ylabel('Prediction')\n",
        "    plt.legend()\n",
        "    plt.show()\n",
        "\n",
        "# Calculation of Root Mean Squared-Error\n",
        "\n",
        "def return_rmse(test,predicted):\n",
        "    rmse = math.sqrt(mean_squared_error(test, predicted))\n",
        "    print(\"The root mean squared error is {}.\".format(rmse))"
      ]
    },
    {
      "cell_type": "code",
      "execution_count": 4,
      "id": "e6f9a39b",
      "metadata": {
        "execution": {
          "iopub.execute_input": "2024-06-22T14:55:42.317002Z",
          "iopub.status.busy": "2024-06-22T14:55:42.316117Z",
          "iopub.status.idle": "2024-06-22T14:55:50.660764Z",
          "shell.execute_reply": "2024-06-22T14:55:50.659476Z"
        },
        "id": "e6f9a39b",
        "papermill": {
          "duration": 8.35659,
          "end_time": "2024-06-22T14:55:50.663519",
          "exception": false,
          "start_time": "2024-06-22T14:55:42.306929",
          "status": "completed"
        },
        "tags": []
      },
      "outputs": [],
      "source": [
        "df=pd.read_csv('/workspaces/codespaces-jupyter/data/continuous dataset.csv',index_col=[0],parse_dates=[0])"
      ]
    },
    {
      "cell_type": "code",
      "execution_count": 5,
      "id": "c8129536",
      "metadata": {
        "colab": {
          "base_uri": "https://localhost:8080/",
          "height": 810
        },
        "execution": {
          "iopub.execute_input": "2024-06-22T14:55:50.681471Z",
          "iopub.status.busy": "2024-06-22T14:55:50.681070Z",
          "iopub.status.idle": "2024-06-22T14:55:50.721624Z",
          "shell.execute_reply": "2024-06-22T14:55:50.720566Z"
        },
        "id": "c8129536",
        "outputId": "669f89fe-f70d-4cc5-8410-5dc2fc1bcc18",
        "papermill": {
          "duration": 0.052125,
          "end_time": "2024-06-22T14:55:50.723992",
          "exception": false,
          "start_time": "2024-06-22T14:55:50.671867",
          "status": "completed"
        },
        "tags": []
      },
      "outputs": [
        {
          "data": {
            "text/html": [
              "<div>\n",
              "<style scoped>\n",
              "    .dataframe tbody tr th:only-of-type {\n",
              "        vertical-align: middle;\n",
              "    }\n",
              "\n",
              "    .dataframe tbody tr th {\n",
              "        vertical-align: top;\n",
              "    }\n",
              "\n",
              "    .dataframe thead th {\n",
              "        text-align: right;\n",
              "    }\n",
              "</style>\n",
              "<table border=\"1\" class=\"dataframe\">\n",
              "  <thead>\n",
              "    <tr style=\"text-align: right;\">\n",
              "      <th></th>\n",
              "      <th>nat_demand</th>\n",
              "      <th>T2M_toc</th>\n",
              "      <th>QV2M_toc</th>\n",
              "      <th>TQL_toc</th>\n",
              "      <th>W2M_toc</th>\n",
              "      <th>T2M_san</th>\n",
              "      <th>QV2M_san</th>\n",
              "      <th>TQL_san</th>\n",
              "      <th>W2M_san</th>\n",
              "      <th>T2M_dav</th>\n",
              "      <th>QV2M_dav</th>\n",
              "      <th>TQL_dav</th>\n",
              "      <th>W2M_dav</th>\n",
              "      <th>Holiday_ID</th>\n",
              "      <th>holiday</th>\n",
              "      <th>school</th>\n",
              "    </tr>\n",
              "    <tr>\n",
              "      <th>datetime</th>\n",
              "      <th></th>\n",
              "      <th></th>\n",
              "      <th></th>\n",
              "      <th></th>\n",
              "      <th></th>\n",
              "      <th></th>\n",
              "      <th></th>\n",
              "      <th></th>\n",
              "      <th></th>\n",
              "      <th></th>\n",
              "      <th></th>\n",
              "      <th></th>\n",
              "      <th></th>\n",
              "      <th></th>\n",
              "      <th></th>\n",
              "      <th></th>\n",
              "    </tr>\n",
              "  </thead>\n",
              "  <tbody>\n",
              "    <tr>\n",
              "      <th>2015-01-03 01:00:00</th>\n",
              "      <td>970.3450</td>\n",
              "      <td>25.865259</td>\n",
              "      <td>0.018576</td>\n",
              "      <td>0.016174</td>\n",
              "      <td>21.850546</td>\n",
              "      <td>23.482446</td>\n",
              "      <td>0.017272</td>\n",
              "      <td>0.001855</td>\n",
              "      <td>10.328949</td>\n",
              "      <td>22.662134</td>\n",
              "      <td>0.016562</td>\n",
              "      <td>0.096100</td>\n",
              "      <td>5.364148</td>\n",
              "      <td>0</td>\n",
              "      <td>0</td>\n",
              "      <td>0</td>\n",
              "    </tr>\n",
              "    <tr>\n",
              "      <th>2015-01-03 02:00:00</th>\n",
              "      <td>912.1755</td>\n",
              "      <td>25.899255</td>\n",
              "      <td>0.018653</td>\n",
              "      <td>0.016418</td>\n",
              "      <td>22.166944</td>\n",
              "      <td>23.399255</td>\n",
              "      <td>0.017265</td>\n",
              "      <td>0.001327</td>\n",
              "      <td>10.681517</td>\n",
              "      <td>22.578943</td>\n",
              "      <td>0.016509</td>\n",
              "      <td>0.087646</td>\n",
              "      <td>5.572471</td>\n",
              "      <td>0</td>\n",
              "      <td>0</td>\n",
              "      <td>0</td>\n",
              "    </tr>\n",
              "    <tr>\n",
              "      <th>2015-01-03 03:00:00</th>\n",
              "      <td>900.2688</td>\n",
              "      <td>25.937280</td>\n",
              "      <td>0.018768</td>\n",
              "      <td>0.015480</td>\n",
              "      <td>22.454911</td>\n",
              "      <td>23.343530</td>\n",
              "      <td>0.017211</td>\n",
              "      <td>0.001428</td>\n",
              "      <td>10.874924</td>\n",
              "      <td>22.531030</td>\n",
              "      <td>0.016479</td>\n",
              "      <td>0.078735</td>\n",
              "      <td>5.871184</td>\n",
              "      <td>0</td>\n",
              "      <td>0</td>\n",
              "      <td>0</td>\n",
              "    </tr>\n",
              "    <tr>\n",
              "      <th>2015-01-03 04:00:00</th>\n",
              "      <td>889.9538</td>\n",
              "      <td>25.957544</td>\n",
              "      <td>0.018890</td>\n",
              "      <td>0.016273</td>\n",
              "      <td>22.110481</td>\n",
              "      <td>23.238794</td>\n",
              "      <td>0.017128</td>\n",
              "      <td>0.002599</td>\n",
              "      <td>10.518620</td>\n",
              "      <td>22.512231</td>\n",
              "      <td>0.016487</td>\n",
              "      <td>0.068390</td>\n",
              "      <td>5.883621</td>\n",
              "      <td>0</td>\n",
              "      <td>0</td>\n",
              "      <td>0</td>\n",
              "    </tr>\n",
              "    <tr>\n",
              "      <th>2015-01-03 05:00:00</th>\n",
              "      <td>893.6865</td>\n",
              "      <td>25.973840</td>\n",
              "      <td>0.018981</td>\n",
              "      <td>0.017281</td>\n",
              "      <td>21.186089</td>\n",
              "      <td>23.075403</td>\n",
              "      <td>0.017059</td>\n",
              "      <td>0.001729</td>\n",
              "      <td>9.733589</td>\n",
              "      <td>22.481653</td>\n",
              "      <td>0.016456</td>\n",
              "      <td>0.064362</td>\n",
              "      <td>5.611724</td>\n",
              "      <td>0</td>\n",
              "      <td>0</td>\n",
              "      <td>0</td>\n",
              "    </tr>\n",
              "    <tr>\n",
              "      <th>...</th>\n",
              "      <td>...</td>\n",
              "      <td>...</td>\n",
              "      <td>...</td>\n",
              "      <td>...</td>\n",
              "      <td>...</td>\n",
              "      <td>...</td>\n",
              "      <td>...</td>\n",
              "      <td>...</td>\n",
              "      <td>...</td>\n",
              "      <td>...</td>\n",
              "      <td>...</td>\n",
              "      <td>...</td>\n",
              "      <td>...</td>\n",
              "      <td>...</td>\n",
              "      <td>...</td>\n",
              "      <td>...</td>\n",
              "    </tr>\n",
              "    <tr>\n",
              "      <th>2020-06-26 20:00:00</th>\n",
              "      <td>1128.5592</td>\n",
              "      <td>27.246545</td>\n",
              "      <td>0.020303</td>\n",
              "      <td>0.055511</td>\n",
              "      <td>9.289304</td>\n",
              "      <td>25.715295</td>\n",
              "      <td>0.019746</td>\n",
              "      <td>0.121552</td>\n",
              "      <td>1.990773</td>\n",
              "      <td>23.746545</td>\n",
              "      <td>0.018381</td>\n",
              "      <td>0.150879</td>\n",
              "      <td>2.444658</td>\n",
              "      <td>0</td>\n",
              "      <td>0</td>\n",
              "      <td>1</td>\n",
              "    </tr>\n",
              "    <tr>\n",
              "      <th>2020-06-26 21:00:00</th>\n",
              "      <td>1112.7488</td>\n",
              "      <td>27.099573</td>\n",
              "      <td>0.020395</td>\n",
              "      <td>0.053848</td>\n",
              "      <td>9.837504</td>\n",
              "      <td>25.552698</td>\n",
              "      <td>0.019632</td>\n",
              "      <td>0.153870</td>\n",
              "      <td>2.094459</td>\n",
              "      <td>23.693323</td>\n",
              "      <td>0.018320</td>\n",
              "      <td>0.156311</td>\n",
              "      <td>2.515814</td>\n",
              "      <td>0</td>\n",
              "      <td>0</td>\n",
              "      <td>1</td>\n",
              "    </tr>\n",
              "    <tr>\n",
              "      <th>2020-06-26 22:00:00</th>\n",
              "      <td>1081.5680</td>\n",
              "      <td>26.971155</td>\n",
              "      <td>0.020448</td>\n",
              "      <td>0.057251</td>\n",
              "      <td>10.262464</td>\n",
              "      <td>25.393030</td>\n",
              "      <td>0.019518</td>\n",
              "      <td>0.144531</td>\n",
              "      <td>2.396369</td>\n",
              "      <td>23.658655</td>\n",
              "      <td>0.018327</td>\n",
              "      <td>0.153259</td>\n",
              "      <td>2.800717</td>\n",
              "      <td>0</td>\n",
              "      <td>0</td>\n",
              "      <td>1</td>\n",
              "    </tr>\n",
              "    <tr>\n",
              "      <th>2020-06-26 23:00:00</th>\n",
              "      <td>1041.6240</td>\n",
              "      <td>26.867487</td>\n",
              "      <td>0.020464</td>\n",
              "      <td>0.064178</td>\n",
              "      <td>10.326567</td>\n",
              "      <td>25.258112</td>\n",
              "      <td>0.019403</td>\n",
              "      <td>0.108063</td>\n",
              "      <td>2.720871</td>\n",
              "      <td>23.601862</td>\n",
              "      <td>0.018358</td>\n",
              "      <td>0.152771</td>\n",
              "      <td>3.138132</td>\n",
              "      <td>0</td>\n",
              "      <td>0</td>\n",
              "      <td>1</td>\n",
              "    </tr>\n",
              "    <tr>\n",
              "      <th>2020-06-27 00:00:00</th>\n",
              "      <td>1013.5683</td>\n",
              "      <td>26.750330</td>\n",
              "      <td>0.020441</td>\n",
              "      <td>0.063965</td>\n",
              "      <td>10.198346</td>\n",
              "      <td>25.125330</td>\n",
              "      <td>0.019281</td>\n",
              "      <td>0.100189</td>\n",
              "      <td>2.785751</td>\n",
              "      <td>23.562830</td>\n",
              "      <td>0.018404</td>\n",
              "      <td>0.162598</td>\n",
              "      <td>3.286878</td>\n",
              "      <td>0</td>\n",
              "      <td>0</td>\n",
              "      <td>1</td>\n",
              "    </tr>\n",
              "  </tbody>\n",
              "</table>\n",
              "<p>48048 rows × 16 columns</p>\n",
              "</div>"
            ],
            "text/plain": [
              "                     nat_demand    T2M_toc  QV2M_toc   TQL_toc    W2M_toc  \\\n",
              "datetime                                                                    \n",
              "2015-01-03 01:00:00    970.3450  25.865259  0.018576  0.016174  21.850546   \n",
              "2015-01-03 02:00:00    912.1755  25.899255  0.018653  0.016418  22.166944   \n",
              "2015-01-03 03:00:00    900.2688  25.937280  0.018768  0.015480  22.454911   \n",
              "2015-01-03 04:00:00    889.9538  25.957544  0.018890  0.016273  22.110481   \n",
              "2015-01-03 05:00:00    893.6865  25.973840  0.018981  0.017281  21.186089   \n",
              "...                         ...        ...       ...       ...        ...   \n",
              "2020-06-26 20:00:00   1128.5592  27.246545  0.020303  0.055511   9.289304   \n",
              "2020-06-26 21:00:00   1112.7488  27.099573  0.020395  0.053848   9.837504   \n",
              "2020-06-26 22:00:00   1081.5680  26.971155  0.020448  0.057251  10.262464   \n",
              "2020-06-26 23:00:00   1041.6240  26.867487  0.020464  0.064178  10.326567   \n",
              "2020-06-27 00:00:00   1013.5683  26.750330  0.020441  0.063965  10.198346   \n",
              "\n",
              "                       T2M_san  QV2M_san   TQL_san    W2M_san    T2M_dav  \\\n",
              "datetime                                                                   \n",
              "2015-01-03 01:00:00  23.482446  0.017272  0.001855  10.328949  22.662134   \n",
              "2015-01-03 02:00:00  23.399255  0.017265  0.001327  10.681517  22.578943   \n",
              "2015-01-03 03:00:00  23.343530  0.017211  0.001428  10.874924  22.531030   \n",
              "2015-01-03 04:00:00  23.238794  0.017128  0.002599  10.518620  22.512231   \n",
              "2015-01-03 05:00:00  23.075403  0.017059  0.001729   9.733589  22.481653   \n",
              "...                        ...       ...       ...        ...        ...   \n",
              "2020-06-26 20:00:00  25.715295  0.019746  0.121552   1.990773  23.746545   \n",
              "2020-06-26 21:00:00  25.552698  0.019632  0.153870   2.094459  23.693323   \n",
              "2020-06-26 22:00:00  25.393030  0.019518  0.144531   2.396369  23.658655   \n",
              "2020-06-26 23:00:00  25.258112  0.019403  0.108063   2.720871  23.601862   \n",
              "2020-06-27 00:00:00  25.125330  0.019281  0.100189   2.785751  23.562830   \n",
              "\n",
              "                     QV2M_dav   TQL_dav   W2M_dav  Holiday_ID  holiday  school  \n",
              "datetime                                                                        \n",
              "2015-01-03 01:00:00  0.016562  0.096100  5.364148           0        0       0  \n",
              "2015-01-03 02:00:00  0.016509  0.087646  5.572471           0        0       0  \n",
              "2015-01-03 03:00:00  0.016479  0.078735  5.871184           0        0       0  \n",
              "2015-01-03 04:00:00  0.016487  0.068390  5.883621           0        0       0  \n",
              "2015-01-03 05:00:00  0.016456  0.064362  5.611724           0        0       0  \n",
              "...                       ...       ...       ...         ...      ...     ...  \n",
              "2020-06-26 20:00:00  0.018381  0.150879  2.444658           0        0       1  \n",
              "2020-06-26 21:00:00  0.018320  0.156311  2.515814           0        0       1  \n",
              "2020-06-26 22:00:00  0.018327  0.153259  2.800717           0        0       1  \n",
              "2020-06-26 23:00:00  0.018358  0.152771  3.138132           0        0       1  \n",
              "2020-06-27 00:00:00  0.018404  0.162598  3.286878           0        0       1  \n",
              "\n",
              "[48048 rows x 16 columns]"
            ]
          },
          "execution_count": 5,
          "metadata": {},
          "output_type": "execute_result"
        }
      ],
      "source": [
        "df"
      ]
    },
    {
      "cell_type": "code",
      "execution_count": 6,
      "id": "70cea450",
      "metadata": {
        "execution": {
          "iopub.execute_input": "2024-06-22T14:55:50.780204Z",
          "iopub.status.busy": "2024-06-22T14:55:50.779785Z",
          "iopub.status.idle": "2024-06-22T14:55:50.801683Z",
          "shell.execute_reply": "2024-06-22T14:55:50.800451Z"
        },
        "id": "70cea450",
        "papermill": {
          "duration": 0.034797,
          "end_time": "2024-06-22T14:55:50.804240",
          "exception": false,
          "start_time": "2024-06-22T14:55:50.769443",
          "status": "completed"
        },
        "tags": []
      },
      "outputs": [],
      "source": [
        "df_refined=df['nat_demand'].resample('D').mean()"
      ]
    },
    {
      "cell_type": "code",
      "execution_count": 7,
      "id": "4fd4d954",
      "metadata": {
        "colab": {
          "base_uri": "https://localhost:8080/"
        },
        "execution": {
          "iopub.execute_input": "2024-06-22T14:55:50.825966Z",
          "iopub.status.busy": "2024-06-22T14:55:50.825093Z",
          "iopub.status.idle": "2024-06-22T14:55:50.838072Z",
          "shell.execute_reply": "2024-06-22T14:55:50.836735Z"
        },
        "id": "4fd4d954",
        "outputId": "becab1e7-e98b-431b-ebfe-227354742813",
        "papermill": {
          "duration": 0.027666,
          "end_time": "2024-06-22T14:55:50.840511",
          "exception": false,
          "start_time": "2024-06-22T14:55:50.812845",
          "status": "completed"
        },
        "tags": []
      },
      "outputs": [
        {
          "data": {
            "text/plain": [
              "datetime\n",
              "2015-01-03    1069.266587\n",
              "2015-01-04    1008.123596\n",
              "2015-01-05    1146.682925\n",
              "2015-01-06    1143.394429\n",
              "2015-01-07    1144.098817\n",
              "                 ...     \n",
              "2018-12-27    1252.963496\n",
              "2018-12-28    1265.321875\n",
              "2018-12-29    1176.583363\n",
              "2018-12-30    1123.209933\n",
              "2018-12-31    1142.083350\n",
              "Freq: D, Name: nat_demand, Length: 1459, dtype: float64"
            ]
          },
          "execution_count": 7,
          "metadata": {},
          "output_type": "execute_result"
        }
      ],
      "source": [
        "df_refined[:'2018']"
      ]
    },
    {
      "cell_type": "code",
      "execution_count": 8,
      "id": "1cd9998d",
      "metadata": {
        "colab": {
          "base_uri": "https://localhost:8080/",
          "height": 436
        },
        "execution": {
          "iopub.execute_input": "2024-06-22T14:55:50.866476Z",
          "iopub.status.busy": "2024-06-22T14:55:50.866062Z",
          "iopub.status.idle": "2024-06-22T14:55:51.519649Z",
          "shell.execute_reply": "2024-06-22T14:55:51.518384Z"
        },
        "id": "1cd9998d",
        "outputId": "a9bf260c-c3f0-40d5-ab94-bf8b5dfe0b2e",
        "papermill": {
          "duration": 0.670539,
          "end_time": "2024-06-22T14:55:51.522331",
          "exception": false,
          "start_time": "2024-06-22T14:55:50.851792",
          "status": "completed"
        },
        "tags": []
      },
      "outputs": [
        {
          "data": {
            "image/png": "[encoded data removed]",
            "text/plain": [
              "<Figure size 1600x600 with 1 Axes>"
            ]
          },
          "metadata": {},
          "output_type": "display_data"
        }
      ],
      "source": [
        "df_refined[:'2017'].plot(figsize=(16,6),legend=True)\n",
        "df_refined['2017':'2018'].plot(figsize=(16,6),legend=True)\n",
        "plt.legend(['Trained','Training Dataset'])\n",
        "plt.title('Graph of Net Demand vs Weekly data')\n",
        "plt.show()"
      ]
    },
    {
      "cell_type": "code",
      "execution_count": 9,
      "id": "4ff57de0",
      "metadata": {
        "execution": {
          "iopub.execute_input": "2024-06-22T14:55:53.216923Z",
          "iopub.status.busy": "2024-06-22T14:55:53.216491Z",
          "iopub.status.idle": "2024-06-22T14:55:53.224920Z",
          "shell.execute_reply": "2024-06-22T14:55:53.223877Z"
        },
        "id": "4ff57de0",
        "papermill": {
          "duration": 0.024337,
          "end_time": "2024-06-22T14:55:53.227737",
          "exception": false,
          "start_time": "2024-06-22T14:55:53.203400",
          "status": "completed"
        },
        "tags": []
      },
      "outputs": [],
      "source": [
        "# Checking for missing values\n",
        "training_set = df_refined['2017':'2018'].values\n",
        "training_set=training_set.reshape((training_set.shape[0],1))"
      ]
    },
    {
      "cell_type": "code",
      "execution_count": 10,
      "id": "e56bcf9b",
      "metadata": {
        "colab": {
          "base_uri": "https://localhost:8080/"
        },
        "execution": {
          "iopub.execute_input": "2024-06-22T14:55:53.252330Z",
          "iopub.status.busy": "2024-06-22T14:55:53.251924Z",
          "iopub.status.idle": "2024-06-22T14:55:53.257559Z",
          "shell.execute_reply": "2024-06-22T14:55:53.256466Z"
        },
        "id": "e56bcf9b",
        "outputId": "4a463609-c45c-4e68-d638-55a9073d6d3c",
        "papermill": {
          "duration": 0.020834,
          "end_time": "2024-06-22T14:55:53.260023",
          "exception": false,
          "start_time": "2024-06-22T14:55:53.239189",
          "status": "completed"
        },
        "tags": []
      },
      "outputs": [
        {
          "name": "stdout",
          "output_type": "stream",
          "text": [
            "Training Set Shape :  (730, 1)\n"
          ]
        }
      ],
      "source": [
        "print(\"Training Set Shape : \",training_set.shape)"
      ]
    },
    {
      "cell_type": "code",
      "execution_count": 11,
      "id": "pvuAjuWEcAc_",
      "metadata": {
        "id": "pvuAjuWEcAc_"
      },
      "outputs": [],
      "source": [
        "sc = MinMaxScaler(feature_range=(0,1))\n",
        "training_set_scaled = sc.fit_transform(training_set)"
      ]
    },
    {
      "cell_type": "code",
      "execution_count": 12,
      "id": "Qka0-uIYcCWU",
      "metadata": {
        "colab": {
          "base_uri": "https://localhost:8080/"
        },
        "id": "Qka0-uIYcCWU",
        "outputId": "af5d6f34-da15-47e5-d3ee-e518ee38a4c8"
      },
      "outputs": [
        {
          "data": {
            "text/plain": [
              "(730, 1)"
            ]
          },
          "execution_count": 12,
          "metadata": {},
          "output_type": "execute_result"
        }
      ],
      "source": [
        "training_set_scaled.shape"
      ]
    },
    {
      "cell_type": "code",
      "execution_count": 13,
      "id": "MHbZoPLRcFY-",
      "metadata": {
        "id": "MHbZoPLRcFY-"
      },
      "outputs": [],
      "source": [
        "X_train = []\n",
        "Y_train = []\n",
        "for i in range(60,730):\n",
        "    X_train.append(training_set_scaled[i-60:i,0])\n",
        "    Y_train.append(training_set_scaled[i,0])\n",
        "X_train, Y_train = np.array(X_train), np.array(Y_train)"
      ]
    },
    {
      "cell_type": "code",
      "execution_count": 14,
      "id": "inMfqAAscNHR",
      "metadata": {
        "id": "inMfqAAscNHR"
      },
      "outputs": [],
      "source": [
        "X_train = np.reshape(X_train, (X_train.shape[0],X_train.shape[1],1))"
      ]
    },
    {
      "cell_type": "markdown",
      "id": "Crlwk3qZ_ydJ",
      "metadata": {
        "id": "Crlwk3qZ_ydJ"
      },
      "source": [
        "**Imported Model**"
      ]
    },
    {
      "cell_type": "code",
      "execution_count": 15,
      "id": "_2RR2xGs_aVG",
      "metadata": {
        "id": "_2RR2xGs_aVG"
      },
      "outputs": [],
      "source": [
        "import joblib"
      ]
    },
    {
      "cell_type": "code",
      "execution_count": 17,
      "id": "_eeHULfG_hxq",
      "metadata": {
        "id": "_eeHULfG_hxq"
      },
      "outputs": [],
      "source": [
        "model=joblib.load('/workspaces/codespaces-jupyter/models/GRU_model')"
      ]
    },
    {
      "cell_type": "code",
      "execution_count": 18,
      "id": "6RaJhDbUcdfc",
      "metadata": {
        "id": "6RaJhDbUcdfc"
      },
      "outputs": [],
      "source": [
        "EPOCHS=150"
      ]
    },
    {
      "cell_type": "code",
      "execution_count": 19,
      "id": "EBb106jWcSXl",
      "metadata": {
        "colab": {
          "base_uri": "https://localhost:8080/"
        },
        "id": "EBb106jWcSXl",
        "outputId": "62684593-434a-4784-b75a-9894d0589ff2"
      },
      "outputs": [
        {
          "name": "stdout",
          "output_type": "stream",
          "text": [
            "Epoch 1/150\n"
          ]
        },
        {
          "name": "stdout",
          "output_type": "stream",
          "text": [
            "\u001b[1m10/10\u001b[0m \u001b[32m━━━━━━━━━━━━━━━━━━━━\u001b[0m\u001b[37m\u001b[0m \u001b[1m2s\u001b[0m 36ms/step - loss: 0.0162\n",
            "Epoch 2/150\n",
            "\u001b[1m10/10\u001b[0m \u001b[32m━━━━━━━━━━━━━━━━━━━━\u001b[0m\u001b[37m\u001b[0m \u001b[1m0s\u001b[0m 35ms/step - loss: 0.0147\n",
            "Epoch 3/150\n",
            "\u001b[1m10/10\u001b[0m \u001b[32m━━━━━━━━━━━━━━━━━━━━\u001b[0m\u001b[37m\u001b[0m \u001b[1m0s\u001b[0m 38ms/step - loss: 0.0145\n",
            "Epoch 4/150\n",
            "\u001b[1m10/10\u001b[0m \u001b[32m━━━━━━━━━━━━━━━━━━━━\u001b[0m\u001b[37m\u001b[0m \u001b[1m0s\u001b[0m 40ms/step - loss: 0.0151\n",
            "Epoch 5/150\n",
            "\u001b[1m10/10\u001b[0m \u001b[32m━━━━━━━━━━━━━━━━━━━━\u001b[0m\u001b[37m\u001b[0m \u001b[1m0s\u001b[0m 39ms/step - loss: 0.0142\n",
            "Epoch 6/150\n",
            "\u001b[1m10/10\u001b[0m \u001b[32m━━━━━━━━━━━━━━━━━━━━\u001b[0m\u001b[37m\u001b[0m \u001b[1m0s\u001b[0m 36ms/step - loss: 0.0139\n",
            "Epoch 7/150\n",
            "\u001b[1m10/10\u001b[0m \u001b[32m━━━━━━━━━━━━━━━━━━━━\u001b[0m\u001b[37m\u001b[0m \u001b[1m0s\u001b[0m 36ms/step - loss: 0.0133\n",
            "Epoch 8/150\n",
            "\u001b[1m10/10\u001b[0m \u001b[32m━━━━━━━━━━━━━━━━━━━━\u001b[0m\u001b[37m\u001b[0m \u001b[1m0s\u001b[0m 36ms/step - loss: 0.0148\n",
            "Epoch 9/150\n",
            "\u001b[1m10/10\u001b[0m \u001b[32m━━━━━━━━━━━━━━━━━━━━\u001b[0m\u001b[37m\u001b[0m \u001b[1m0s\u001b[0m 37ms/step - loss: 0.0131\n",
            "Epoch 10/150\n",
            "\u001b[1m10/10\u001b[0m \u001b[32m━━━━━━━━━━━━━━━━━━━━\u001b[0m\u001b[37m\u001b[0m \u001b[1m0s\u001b[0m 36ms/step - loss: 0.0139\n",
            "Epoch 11/150\n",
            "\u001b[1m10/10\u001b[0m \u001b[32m━━━━━━━━━━━━━━━━━━━━\u001b[0m\u001b[37m\u001b[0m \u001b[1m0s\u001b[0m 36ms/step - loss: 0.0141\n",
            "Epoch 12/150\n",
            "\u001b[1m10/10\u001b[0m \u001b[32m━━━━━━━━━━━━━━━━━━━━\u001b[0m\u001b[37m\u001b[0m \u001b[1m0s\u001b[0m 35ms/step - loss: 0.0145\n",
            "Epoch 13/150\n",
            "\u001b[1m10/10\u001b[0m \u001b[32m━━━━━━━━━━━━━━━━━━━━\u001b[0m\u001b[37m\u001b[0m \u001b[1m0s\u001b[0m 36ms/step - loss: 0.0130\n",
            "Epoch 14/150\n",
            "\u001b[1m10/10\u001b[0m \u001b[32m━━━━━━━━━━━━━━━━━━━━\u001b[0m\u001b[37m\u001b[0m \u001b[1m0s\u001b[0m 37ms/step - loss: 0.0134\n",
            "Epoch 15/150\n",
            "\u001b[1m10/10\u001b[0m \u001b[32m━━━━━━━━━━━━━━━━━━━━\u001b[0m\u001b[37m\u001b[0m \u001b[1m1s\u001b[0m 37ms/step - loss: 0.0127\n",
            "Epoch 16/150\n",
            "\u001b[1m10/10\u001b[0m \u001b[32m━━━━━━━━━━━━━━━━━━━━\u001b[0m\u001b[37m\u001b[0m \u001b[1m0s\u001b[0m 36ms/step - loss: 0.0153\n",
            "Epoch 17/150\n",
            "\u001b[1m10/10\u001b[0m \u001b[32m━━━━━━━━━━━━━━━━━━━━\u001b[0m\u001b[37m\u001b[0m \u001b[1m0s\u001b[0m 36ms/step - loss: 0.0138\n",
            "Epoch 18/150\n",
            "\u001b[1m10/10\u001b[0m \u001b[32m━━━━━━━━━━━━━━━━━━━━\u001b[0m\u001b[37m\u001b[0m \u001b[1m0s\u001b[0m 36ms/step - loss: 0.0129\n",
            "Epoch 19/150\n",
            "\u001b[1m10/10\u001b[0m \u001b[32m━━━━━━━━━━━━━━━━━━━━\u001b[0m\u001b[37m\u001b[0m \u001b[1m1s\u001b[0m 36ms/step - loss: 0.0134\n",
            "Epoch 20/150\n",
            "\u001b[1m10/10\u001b[0m \u001b[32m━━━━━━━━━━━━━━━━━━━━\u001b[0m\u001b[37m\u001b[0m \u001b[1m0s\u001b[0m 37ms/step - loss: 0.0128\n",
            "Epoch 21/150\n",
            "\u001b[1m10/10\u001b[0m \u001b[32m━━━━━━━━━━━━━━━━━━━━\u001b[0m\u001b[37m\u001b[0m \u001b[1m0s\u001b[0m 37ms/step - loss: 0.0139\n",
            "Epoch 22/150\n",
            "\u001b[1m10/10\u001b[0m \u001b[32m━━━━━━━━━━━━━━━━━━━━\u001b[0m\u001b[37m\u001b[0m \u001b[1m0s\u001b[0m 36ms/step - loss: 0.0129\n",
            "Epoch 23/150\n",
            "\u001b[1m10/10\u001b[0m \u001b[32m━━━━━━━━━━━━━━━━━━━━\u001b[0m\u001b[37m\u001b[0m \u001b[1m0s\u001b[0m 36ms/step - loss: 0.0122\n",
            "Epoch 24/150\n",
            "\u001b[1m10/10\u001b[0m \u001b[32m━━━━━━━━━━━━━━━━━━━━\u001b[0m\u001b[37m\u001b[0m \u001b[1m0s\u001b[0m 36ms/step - loss: 0.0118\n",
            "Epoch 25/150\n",
            "\u001b[1m10/10\u001b[0m \u001b[32m━━━━━━━━━━━━━━━━━━━━\u001b[0m\u001b[37m\u001b[0m \u001b[1m0s\u001b[0m 36ms/step - loss: 0.0139\n",
            "Epoch 26/150\n",
            "\u001b[1m10/10\u001b[0m \u001b[32m━━━━━━━━━━━━━━━━━━━━\u001b[0m\u001b[37m\u001b[0m \u001b[1m0s\u001b[0m 36ms/step - loss: 0.0128\n",
            "Epoch 27/150\n",
            "\u001b[1m10/10\u001b[0m \u001b[32m━━━━━━━━━━━━━━━━━━━━\u001b[0m\u001b[37m\u001b[0m \u001b[1m0s\u001b[0m 35ms/step - loss: 0.0121\n",
            "Epoch 28/150\n",
            "\u001b[1m10/10\u001b[0m \u001b[32m━━━━━━━━━━━━━━━━━━━━\u001b[0m\u001b[37m\u001b[0m \u001b[1m0s\u001b[0m 36ms/step - loss: 0.0128\n",
            "Epoch 29/150\n",
            "\u001b[1m10/10\u001b[0m \u001b[32m━━━━━━━━━━━━━━━━━━━━\u001b[0m\u001b[37m\u001b[0m \u001b[1m1s\u001b[0m 39ms/step - loss: 0.0125\n",
            "Epoch 30/150\n",
            "\u001b[1m10/10\u001b[0m \u001b[32m━━━━━━━━━━━━━━━━━━━━\u001b[0m\u001b[37m\u001b[0m \u001b[1m0s\u001b[0m 37ms/step - loss: 0.0129\n",
            "Epoch 31/150\n",
            "\u001b[1m10/10\u001b[0m \u001b[32m━━━━━━━━━━━━━━━━━━━━\u001b[0m\u001b[37m\u001b[0m \u001b[1m1s\u001b[0m 37ms/step - loss: 0.0126\n",
            "Epoch 32/150\n",
            "\u001b[1m10/10\u001b[0m \u001b[32m━━━━━━━━━━━━━━━━━━━━\u001b[0m\u001b[37m\u001b[0m \u001b[1m0s\u001b[0m 37ms/step - loss: 0.0117\n",
            "Epoch 33/150\n",
            "\u001b[1m10/10\u001b[0m \u001b[32m━━━━━━━━━━━━━━━━━━━━\u001b[0m\u001b[37m\u001b[0m \u001b[1m1s\u001b[0m 37ms/step - loss: 0.0128\n",
            "Epoch 34/150\n",
            "\u001b[1m10/10\u001b[0m \u001b[32m━━━━━━━━━━━━━━━━━━━━\u001b[0m\u001b[37m\u001b[0m \u001b[1m0s\u001b[0m 37ms/step - loss: 0.0123\n",
            "Epoch 35/150\n",
            "\u001b[1m10/10\u001b[0m \u001b[32m━━━━━━━━━━━━━━━━━━━━\u001b[0m\u001b[37m\u001b[0m \u001b[1m0s\u001b[0m 36ms/step - loss: 0.0122\n",
            "Epoch 36/150\n",
            "\u001b[1m10/10\u001b[0m \u001b[32m━━━━━━━━━━━━━━━━━━━━\u001b[0m\u001b[37m\u001b[0m \u001b[1m0s\u001b[0m 35ms/step - loss: 0.0124\n",
            "Epoch 37/150\n",
            "\u001b[1m10/10\u001b[0m \u001b[32m━━━━━━━━━━━━━━━━━━━━\u001b[0m\u001b[37m\u001b[0m \u001b[1m0s\u001b[0m 37ms/step - loss: 0.0111\n",
            "Epoch 38/150\n",
            "\u001b[1m10/10\u001b[0m \u001b[32m━━━━━━━━━━━━━━━━━━━━\u001b[0m\u001b[37m\u001b[0m \u001b[1m0s\u001b[0m 36ms/step - loss: 0.0130\n",
            "Epoch 39/150\n",
            "\u001b[1m10/10\u001b[0m \u001b[32m━━━━━━━━━━━━━━━━━━━━\u001b[0m\u001b[37m\u001b[0m \u001b[1m0s\u001b[0m 36ms/step - loss: 0.0116\n",
            "Epoch 40/150\n",
            "\u001b[1m10/10\u001b[0m \u001b[32m━━━━━━━━━━━━━━━━━━━━\u001b[0m\u001b[37m\u001b[0m \u001b[1m1s\u001b[0m 36ms/step - loss: 0.0125\n",
            "Epoch 41/150\n",
            "\u001b[1m10/10\u001b[0m \u001b[32m━━━━━━━━━━━━━━━━━━━━\u001b[0m\u001b[37m\u001b[0m \u001b[1m0s\u001b[0m 36ms/step - loss: 0.0125\n",
            "Epoch 42/150\n",
            "\u001b[1m10/10\u001b[0m \u001b[32m━━━━━━━━━━━━━━━━━━━━\u001b[0m\u001b[37m\u001b[0m \u001b[1m0s\u001b[0m 36ms/step - loss: 0.0113\n",
            "Epoch 43/150\n",
            "\u001b[1m10/10\u001b[0m \u001b[32m━━━━━━━━━━━━━━━━━━━━\u001b[0m\u001b[37m\u001b[0m \u001b[1m0s\u001b[0m 36ms/step - loss: 0.0123\n",
            "Epoch 44/150\n",
            "\u001b[1m10/10\u001b[0m \u001b[32m━━━━━━━━━━━━━━━━━━━━\u001b[0m\u001b[37m\u001b[0m \u001b[1m0s\u001b[0m 38ms/step - loss: 0.0113\n",
            "Epoch 45/150\n",
            "\u001b[1m10/10\u001b[0m \u001b[32m━━━━━━━━━━━━━━━━━━━━\u001b[0m\u001b[37m\u001b[0m \u001b[1m0s\u001b[0m 37ms/step - loss: 0.0118\n",
            "Epoch 46/150\n",
            "\u001b[1m10/10\u001b[0m \u001b[32m━━━━━━━━━━━━━━━━━━━━\u001b[0m\u001b[37m\u001b[0m \u001b[1m1s\u001b[0m 36ms/step - loss: 0.0116\n",
            "Epoch 47/150\n",
            "\u001b[1m10/10\u001b[0m \u001b[32m━━━━━━━━━━━━━━━━━━━━\u001b[0m\u001b[37m\u001b[0m \u001b[1m0s\u001b[0m 36ms/step - loss: 0.0115\n",
            "Epoch 48/150\n",
            "\u001b[1m10/10\u001b[0m \u001b[32m━━━━━━━━━━━━━━━━━━━━\u001b[0m\u001b[37m\u001b[0m \u001b[1m0s\u001b[0m 36ms/step - loss: 0.0115\n",
            "Epoch 49/150\n",
            "\u001b[1m10/10\u001b[0m \u001b[32m━━━━━━━━━━━━━━━━━━━━\u001b[0m\u001b[37m\u001b[0m \u001b[1m0s\u001b[0m 37ms/step - loss: 0.0117\n",
            "Epoch 50/150\n",
            "\u001b[1m10/10\u001b[0m \u001b[32m━━━━━━━━━━━━━━━━━━━━\u001b[0m\u001b[37m\u001b[0m \u001b[1m0s\u001b[0m 36ms/step - loss: 0.0115\n",
            "Epoch 51/150\n",
            "\u001b[1m10/10\u001b[0m \u001b[32m━━━━━━━━━━━━━━━━━━━━\u001b[0m\u001b[37m\u001b[0m \u001b[1m0s\u001b[0m 36ms/step - loss: 0.0115\n",
            "Epoch 52/150\n",
            "\u001b[1m10/10\u001b[0m \u001b[32m━━━━━━━━━━━━━━━━━━━━\u001b[0m\u001b[37m\u001b[0m \u001b[1m0s\u001b[0m 36ms/step - loss: 0.0123\n",
            "Epoch 53/150\n",
            "\u001b[1m10/10\u001b[0m \u001b[32m━━━━━━━━━━━━━━━━━━━━\u001b[0m\u001b[37m\u001b[0m \u001b[1m0s\u001b[0m 40ms/step - loss: 0.0111\n",
            "Epoch 54/150\n",
            "\u001b[1m10/10\u001b[0m \u001b[32m━━━━━━━━━━━━━━━━━━━━\u001b[0m\u001b[37m\u001b[0m \u001b[1m0s\u001b[0m 37ms/step - loss: 0.0119\n",
            "Epoch 55/150\n",
            "\u001b[1m10/10\u001b[0m \u001b[32m━━━━━━━━━━━━━━━━━━━━\u001b[0m\u001b[37m\u001b[0m \u001b[1m0s\u001b[0m 36ms/step - loss: 0.0108\n",
            "Epoch 56/150\n",
            "\u001b[1m10/10\u001b[0m \u001b[32m━━━━━━━━━━━━━━━━━━━━\u001b[0m\u001b[37m\u001b[0m \u001b[1m0s\u001b[0m 36ms/step - loss: 0.0108\n",
            "Epoch 57/150\n",
            "\u001b[1m10/10\u001b[0m \u001b[32m━━━━━━━━━━━━━━━━━━━━\u001b[0m\u001b[37m\u001b[0m \u001b[1m0s\u001b[0m 36ms/step - loss: 0.0118\n",
            "Epoch 58/150\n",
            "\u001b[1m10/10\u001b[0m \u001b[32m━━━━━━━━━━━━━━━━━━━━\u001b[0m\u001b[37m\u001b[0m \u001b[1m0s\u001b[0m 39ms/step - loss: 0.0108\n",
            "Epoch 59/150\n",
            "\u001b[1m10/10\u001b[0m \u001b[32m━━━━━━━━━━━━━━━━━━━━\u001b[0m\u001b[37m\u001b[0m \u001b[1m0s\u001b[0m 36ms/step - loss: 0.0109\n",
            "Epoch 60/150\n",
            "\u001b[1m10/10\u001b[0m \u001b[32m━━━━━━━━━━━━━━━━━━━━\u001b[0m\u001b[37m\u001b[0m \u001b[1m0s\u001b[0m 36ms/step - loss: 0.0123\n",
            "Epoch 61/150\n",
            "\u001b[1m10/10\u001b[0m \u001b[32m━━━━━━━━━━━━━━━━━━━━\u001b[0m\u001b[37m\u001b[0m \u001b[1m0s\u001b[0m 36ms/step - loss: 0.0106\n",
            "Epoch 62/150\n",
            "\u001b[1m10/10\u001b[0m \u001b[32m━━━━━━━━━━━━━━━━━━━━\u001b[0m\u001b[37m\u001b[0m \u001b[1m1s\u001b[0m 37ms/step - loss: 0.0110\n",
            "Epoch 63/150\n",
            "\u001b[1m10/10\u001b[0m \u001b[32m━━━━━━━━━━━━━━━━━━━━\u001b[0m\u001b[37m\u001b[0m \u001b[1m1s\u001b[0m 36ms/step - loss: 0.0111\n",
            "Epoch 64/150\n",
            "\u001b[1m10/10\u001b[0m \u001b[32m━━━━━━━━━━━━━━━━━━━━\u001b[0m\u001b[37m\u001b[0m \u001b[1m0s\u001b[0m 37ms/step - loss: 0.0102\n",
            "Epoch 65/150\n",
            "\u001b[1m10/10\u001b[0m \u001b[32m━━━━━━━━━━━━━━━━━━━━\u001b[0m\u001b[37m\u001b[0m \u001b[1m1s\u001b[0m 35ms/step - loss: 0.0105\n",
            "Epoch 66/150\n",
            "\u001b[1m10/10\u001b[0m \u001b[32m━━━━━━━━━━━━━━━━━━━━\u001b[0m\u001b[37m\u001b[0m \u001b[1m0s\u001b[0m 36ms/step - loss: 0.0101\n",
            "Epoch 67/150\n",
            "\u001b[1m10/10\u001b[0m \u001b[32m━━━━━━━━━━━━━━━━━━━━\u001b[0m\u001b[37m\u001b[0m \u001b[1m0s\u001b[0m 36ms/step - loss: 0.0116\n",
            "Epoch 68/150\n",
            "\u001b[1m10/10\u001b[0m \u001b[32m━━━━━━━━━━━━━━━━━━━━\u001b[0m\u001b[37m\u001b[0m \u001b[1m0s\u001b[0m 36ms/step - loss: 0.0108\n",
            "Epoch 69/150\n",
            "\u001b[1m10/10\u001b[0m \u001b[32m━━━━━━━━━━━━━━━━━━━━\u001b[0m\u001b[37m\u001b[0m \u001b[1m1s\u001b[0m 42ms/step - loss: 0.0107\n",
            "Epoch 70/150\n",
            "\u001b[1m10/10\u001b[0m \u001b[32m━━━━━━━━━━━━━━━━━━━━\u001b[0m\u001b[37m\u001b[0m \u001b[1m1s\u001b[0m 36ms/step - loss: 0.0112\n",
            "Epoch 71/150\n",
            "\u001b[1m10/10\u001b[0m \u001b[32m━━━━━━━━━━━━━━━━━━━━\u001b[0m\u001b[37m\u001b[0m \u001b[1m0s\u001b[0m 36ms/step - loss: 0.0113\n",
            "Epoch 72/150\n",
            "\u001b[1m10/10\u001b[0m \u001b[32m━━━━━━━━━━━━━━━━━━━━\u001b[0m\u001b[37m\u001b[0m \u001b[1m0s\u001b[0m 36ms/step - loss: 0.0104\n",
            "Epoch 73/150\n",
            "\u001b[1m10/10\u001b[0m \u001b[32m━━━━━━━━━━━━━━━━━━━━\u001b[0m\u001b[37m\u001b[0m \u001b[1m1s\u001b[0m 36ms/step - loss: 0.0101\n",
            "Epoch 74/150\n",
            "\u001b[1m10/10\u001b[0m \u001b[32m━━━━━━━━━━━━━━━━━━━━\u001b[0m\u001b[37m\u001b[0m \u001b[1m0s\u001b[0m 36ms/step - loss: 0.0109\n",
            "Epoch 75/150\n",
            "\u001b[1m10/10\u001b[0m \u001b[32m━━━━━━━━━━━━━━━━━━━━\u001b[0m\u001b[37m\u001b[0m \u001b[1m0s\u001b[0m 36ms/step - loss: 0.0105\n",
            "Epoch 76/150\n",
            "\u001b[1m10/10\u001b[0m \u001b[32m━━━━━━━━━━━━━━━━━━━━\u001b[0m\u001b[37m\u001b[0m \u001b[1m0s\u001b[0m 40ms/step - loss: 0.0112\n",
            "Epoch 77/150\n",
            "\u001b[1m10/10\u001b[0m \u001b[32m━━━━━━━━━━━━━━━━━━━━\u001b[0m\u001b[37m\u001b[0m \u001b[1m0s\u001b[0m 36ms/step - loss: 0.0108\n",
            "Epoch 78/150\n",
            "\u001b[1m10/10\u001b[0m \u001b[32m━━━━━━━━━━━━━━━━━━━━\u001b[0m\u001b[37m\u001b[0m \u001b[1m0s\u001b[0m 36ms/step - loss: 0.0109\n",
            "Epoch 79/150\n",
            "\u001b[1m10/10\u001b[0m \u001b[32m━━━━━━━━━━━━━━━━━━━━\u001b[0m\u001b[37m\u001b[0m \u001b[1m1s\u001b[0m 35ms/step - loss: 0.0113\n",
            "Epoch 80/150\n",
            "\u001b[1m10/10\u001b[0m \u001b[32m━━━━━━━━━━━━━━━━━━━━\u001b[0m\u001b[37m\u001b[0m \u001b[1m1s\u001b[0m 38ms/step - loss: 0.0112\n",
            "Epoch 81/150\n",
            "\u001b[1m10/10\u001b[0m \u001b[32m━━━━━━━━━━━━━━━━━━━━\u001b[0m\u001b[37m\u001b[0m \u001b[1m0s\u001b[0m 38ms/step - loss: 0.0104\n",
            "Epoch 82/150\n",
            "\u001b[1m10/10\u001b[0m \u001b[32m━━━━━━━━━━━━━━━━━━━━\u001b[0m\u001b[37m\u001b[0m \u001b[1m0s\u001b[0m 37ms/step - loss: 0.0104\n",
            "Epoch 83/150\n",
            "\u001b[1m10/10\u001b[0m \u001b[32m━━━━━━━━━━━━━━━━━━━━\u001b[0m\u001b[37m\u001b[0m \u001b[1m0s\u001b[0m 36ms/step - loss: 0.0114\n",
            "Epoch 84/150\n",
            "\u001b[1m10/10\u001b[0m \u001b[32m━━━━━━━━━━━━━━━━━━━━\u001b[0m\u001b[37m\u001b[0m \u001b[1m0s\u001b[0m 37ms/step - loss: 0.0109\n",
            "Epoch 85/150\n",
            "\u001b[1m10/10\u001b[0m \u001b[32m━━━━━━━━━━━━━━━━━━━━\u001b[0m\u001b[37m\u001b[0m \u001b[1m0s\u001b[0m 36ms/step - loss: 0.0104\n",
            "Epoch 86/150\n",
            "\u001b[1m10/10\u001b[0m \u001b[32m━━━━━━━━━━━━━━━━━━━━\u001b[0m\u001b[37m\u001b[0m \u001b[1m0s\u001b[0m 36ms/step - loss: 0.0098\n",
            "Epoch 87/150\n",
            "\u001b[1m10/10\u001b[0m \u001b[32m━━━━━━━━━━━━━━━━━━━━\u001b[0m\u001b[37m\u001b[0m \u001b[1m0s\u001b[0m 36ms/step - loss: 0.0116\n",
            "Epoch 88/150\n",
            "\u001b[1m10/10\u001b[0m \u001b[32m━━━━━━━━━━━━━━━━━━━━\u001b[0m\u001b[37m\u001b[0m \u001b[1m0s\u001b[0m 36ms/step - loss: 0.0104\n",
            "Epoch 89/150\n",
            "\u001b[1m10/10\u001b[0m \u001b[32m━━━━━━━━━━━━━━━━━━━━\u001b[0m\u001b[37m\u001b[0m \u001b[1m0s\u001b[0m 36ms/step - loss: 0.0105\n",
            "Epoch 90/150\n",
            "\u001b[1m10/10\u001b[0m \u001b[32m━━━━━━━━━━━━━━━━━━━━\u001b[0m\u001b[37m\u001b[0m \u001b[1m1s\u001b[0m 36ms/step - loss: 0.0109\n",
            "Epoch 91/150\n",
            "\u001b[1m10/10\u001b[0m \u001b[32m━━━━━━━━━━━━━━━━━━━━\u001b[0m\u001b[37m\u001b[0m \u001b[1m0s\u001b[0m 37ms/step - loss: 0.0100\n",
            "Epoch 92/150\n",
            "\u001b[1m10/10\u001b[0m \u001b[32m━━━━━━━━━━━━━━━━━━━━\u001b[0m\u001b[37m\u001b[0m \u001b[1m0s\u001b[0m 37ms/step - loss: 0.0102\n",
            "Epoch 93/150\n",
            "\u001b[1m10/10\u001b[0m \u001b[32m━━━━━━━━━━━━━━━━━━━━\u001b[0m\u001b[37m\u001b[0m \u001b[1m0s\u001b[0m 36ms/step - loss: 0.0109\n",
            "Epoch 94/150\n",
            "\u001b[1m10/10\u001b[0m \u001b[32m━━━━━━━━━━━━━━━━━━━━\u001b[0m\u001b[37m\u001b[0m \u001b[1m0s\u001b[0m 36ms/step - loss: 0.0104\n",
            "Epoch 95/150\n",
            "\u001b[1m10/10\u001b[0m \u001b[32m━━━━━━━━━━━━━━━━━━━━\u001b[0m\u001b[37m\u001b[0m \u001b[1m0s\u001b[0m 37ms/step - loss: 0.0113\n",
            "Epoch 96/150\n",
            "\u001b[1m10/10\u001b[0m \u001b[32m━━━━━━━━━━━━━━━━━━━━\u001b[0m\u001b[37m\u001b[0m \u001b[1m1s\u001b[0m 38ms/step - loss: 0.0109\n",
            "Epoch 97/150\n",
            "\u001b[1m10/10\u001b[0m \u001b[32m━━━━━━━━━━━━━━━━━━━━\u001b[0m\u001b[37m\u001b[0m \u001b[1m0s\u001b[0m 36ms/step - loss: 0.0102\n",
            "Epoch 98/150\n",
            "\u001b[1m10/10\u001b[0m \u001b[32m━━━━━━━━━━━━━━━━━━━━\u001b[0m\u001b[37m\u001b[0m \u001b[1m1s\u001b[0m 36ms/step - loss: 0.0105\n",
            "Epoch 99/150\n",
            "\u001b[1m10/10\u001b[0m \u001b[32m━━━━━━━━━━━━━━━━━━━━\u001b[0m\u001b[37m\u001b[0m \u001b[1m0s\u001b[0m 37ms/step - loss: 0.0099\n",
            "Epoch 100/150\n",
            "\u001b[1m10/10\u001b[0m \u001b[32m━━━━━━━━━━━━━━━━━━━━\u001b[0m\u001b[37m\u001b[0m \u001b[1m0s\u001b[0m 37ms/step - loss: 0.0113\n",
            "Epoch 101/150\n",
            "\u001b[1m10/10\u001b[0m \u001b[32m━━━━━━━━━━━━━━━━━━━━\u001b[0m\u001b[37m\u001b[0m \u001b[1m1s\u001b[0m 36ms/step - loss: 0.0105\n",
            "Epoch 102/150\n",
            "\u001b[1m10/10\u001b[0m \u001b[32m━━━━━━━━━━━━━━━━━━━━\u001b[0m\u001b[37m\u001b[0m \u001b[1m0s\u001b[0m 36ms/step - loss: 0.0110\n",
            "Epoch 103/150\n",
            "\u001b[1m10/10\u001b[0m \u001b[32m━━━━━━━━━━━━━━━━━━━━\u001b[0m\u001b[37m\u001b[0m \u001b[1m0s\u001b[0m 36ms/step - loss: 0.0101\n",
            "Epoch 104/150\n",
            "\u001b[1m10/10\u001b[0m \u001b[32m━━━━━━━━━━━━━━━━━━━━\u001b[0m\u001b[37m\u001b[0m \u001b[1m0s\u001b[0m 38ms/step - loss: 0.0107\n",
            "Epoch 105/150\n",
            "\u001b[1m10/10\u001b[0m \u001b[32m━━━━━━━━━━━━━━━━━━━━\u001b[0m\u001b[37m\u001b[0m \u001b[1m0s\u001b[0m 36ms/step - loss: 0.0100\n",
            "Epoch 106/150\n",
            "\u001b[1m10/10\u001b[0m \u001b[32m━━━━━━━━━━━━━━━━━━━━\u001b[0m\u001b[37m\u001b[0m \u001b[1m1s\u001b[0m 37ms/step - loss: 0.0104\n",
            "Epoch 107/150\n",
            "\u001b[1m10/10\u001b[0m \u001b[32m━━━━━━━━━━━━━━━━━━━━\u001b[0m\u001b[37m\u001b[0m \u001b[1m0s\u001b[0m 38ms/step - loss: 0.0103\n",
            "Epoch 108/150\n",
            "\u001b[1m10/10\u001b[0m \u001b[32m━━━━━━━━━━━━━━━━━━━━\u001b[0m\u001b[37m\u001b[0m \u001b[1m1s\u001b[0m 36ms/step - loss: 0.0102\n",
            "Epoch 109/150\n",
            "\u001b[1m10/10\u001b[0m \u001b[32m━━━━━━━━━━━━━━━━━━━━\u001b[0m\u001b[37m\u001b[0m \u001b[1m0s\u001b[0m 36ms/step - loss: 0.0102\n",
            "Epoch 110/150\n",
            "\u001b[1m10/10\u001b[0m \u001b[32m━━━━━━━━━━━━━━━━━━━━\u001b[0m\u001b[37m\u001b[0m \u001b[1m0s\u001b[0m 37ms/step - loss: 0.0113\n",
            "Epoch 111/150\n",
            "\u001b[1m10/10\u001b[0m \u001b[32m━━━━━━━━━━━━━━━━━━━━\u001b[0m\u001b[37m\u001b[0m \u001b[1m0s\u001b[0m 36ms/step - loss: 0.0108\n",
            "Epoch 112/150\n",
            "\u001b[1m10/10\u001b[0m \u001b[32m━━━━━━━━━━━━━━━━━━━━\u001b[0m\u001b[37m\u001b[0m \u001b[1m0s\u001b[0m 36ms/step - loss: 0.0103\n",
            "Epoch 113/150\n",
            "\u001b[1m10/10\u001b[0m \u001b[32m━━━━━━━━━━━━━━━━━━━━\u001b[0m\u001b[37m\u001b[0m \u001b[1m0s\u001b[0m 36ms/step - loss: 0.0100\n",
            "Epoch 114/150\n",
            "\u001b[1m10/10\u001b[0m \u001b[32m━━━━━━━━━━━━━━━━━━━━\u001b[0m\u001b[37m\u001b[0m \u001b[1m0s\u001b[0m 36ms/step - loss: 0.0101\n",
            "Epoch 115/150\n",
            "\u001b[1m10/10\u001b[0m \u001b[32m━━━━━━━━━━━━━━━━━━━━\u001b[0m\u001b[37m\u001b[0m \u001b[1m0s\u001b[0m 37ms/step - loss: 0.0115\n",
            "Epoch 116/150\n",
            "\u001b[1m10/10\u001b[0m \u001b[32m━━━━━━━━━━━━━━━━━━━━\u001b[0m\u001b[37m\u001b[0m \u001b[1m0s\u001b[0m 37ms/step - loss: 0.0103\n",
            "Epoch 117/150\n",
            "\u001b[1m10/10\u001b[0m \u001b[32m━━━━━━━━━━━━━━━━━━━━\u001b[0m\u001b[37m\u001b[0m \u001b[1m0s\u001b[0m 35ms/step - loss: 0.0101\n",
            "Epoch 118/150\n",
            "\u001b[1m10/10\u001b[0m \u001b[32m━━━━━━━━━━━━━━━━━━━━\u001b[0m\u001b[37m\u001b[0m \u001b[1m0s\u001b[0m 36ms/step - loss: 0.0101\n",
            "Epoch 119/150\n",
            "\u001b[1m10/10\u001b[0m \u001b[32m━━━━━━━━━━━━━━━━━━━━\u001b[0m\u001b[37m\u001b[0m \u001b[1m0s\u001b[0m 36ms/step - loss: 0.0108\n",
            "Epoch 120/150\n",
            "\u001b[1m10/10\u001b[0m \u001b[32m━━━━━━━━━━━━━━━━━━━━\u001b[0m\u001b[37m\u001b[0m \u001b[1m0s\u001b[0m 39ms/step - loss: 0.0101\n",
            "Epoch 121/150\n",
            "\u001b[1m10/10\u001b[0m \u001b[32m━━━━━━━━━━━━━━━━━━━━\u001b[0m\u001b[37m\u001b[0m \u001b[1m0s\u001b[0m 37ms/step - loss: 0.0101\n",
            "Epoch 122/150\n",
            "\u001b[1m10/10\u001b[0m \u001b[32m━━━━━━━━━━━━━━━━━━━━\u001b[0m\u001b[37m\u001b[0m \u001b[1m0s\u001b[0m 36ms/step - loss: 0.0098\n",
            "Epoch 123/150\n",
            "\u001b[1m10/10\u001b[0m \u001b[32m━━━━━━━━━━━━━━━━━━━━\u001b[0m\u001b[37m\u001b[0m \u001b[1m0s\u001b[0m 36ms/step - loss: 0.0101\n",
            "Epoch 124/150\n",
            "\u001b[1m10/10\u001b[0m \u001b[32m━━━━━━━━━━━━━━━━━━━━\u001b[0m\u001b[37m\u001b[0m \u001b[1m1s\u001b[0m 40ms/step - loss: 0.0104\n",
            "Epoch 125/150\n",
            "\u001b[1m10/10\u001b[0m \u001b[32m━━━━━━━━━━━━━━━━━━━━\u001b[0m\u001b[37m\u001b[0m \u001b[1m0s\u001b[0m 37ms/step - loss: 0.0106\n",
            "Epoch 126/150\n",
            "\u001b[1m10/10\u001b[0m \u001b[32m━━━━━━━━━━━━━━━━━━━━\u001b[0m\u001b[37m\u001b[0m \u001b[1m0s\u001b[0m 36ms/step - loss: 0.0100\n",
            "Epoch 127/150\n",
            "\u001b[1m10/10\u001b[0m \u001b[32m━━━━━━━━━━━━━━━━━━━━\u001b[0m\u001b[37m\u001b[0m \u001b[1m0s\u001b[0m 36ms/step - loss: 0.0102\n",
            "Epoch 128/150\n",
            "\u001b[1m10/10\u001b[0m \u001b[32m━━━━━━━━━━━━━━━━━━━━\u001b[0m\u001b[37m\u001b[0m \u001b[1m0s\u001b[0m 37ms/step - loss: 0.0097\n",
            "Epoch 129/150\n",
            "\u001b[1m10/10\u001b[0m \u001b[32m━━━━━━━━━━━━━━━━━━━━\u001b[0m\u001b[37m\u001b[0m \u001b[1m0s\u001b[0m 36ms/step - loss: 0.0100\n",
            "Epoch 130/150\n",
            "\u001b[1m10/10\u001b[0m \u001b[32m━━━━━━━━━━━━━━━━━━━━\u001b[0m\u001b[37m\u001b[0m \u001b[1m0s\u001b[0m 36ms/step - loss: 0.0098\n",
            "Epoch 131/150\n",
            "\u001b[1m10/10\u001b[0m \u001b[32m━━━━━━━━━━━━━━━━━━━━\u001b[0m\u001b[37m\u001b[0m \u001b[1m1s\u001b[0m 35ms/step - loss: 0.0105\n",
            "Epoch 132/150\n",
            "\u001b[1m10/10\u001b[0m \u001b[32m━━━━━━━━━━━━━━━━━━━━\u001b[0m\u001b[37m\u001b[0m \u001b[1m1s\u001b[0m 37ms/step - loss: 0.0099\n",
            "Epoch 133/150\n",
            "\u001b[1m10/10\u001b[0m \u001b[32m━━━━━━━━━━━━━━━━━━━━\u001b[0m\u001b[37m\u001b[0m \u001b[1m0s\u001b[0m 38ms/step - loss: 0.0098\n",
            "Epoch 134/150\n",
            "\u001b[1m10/10\u001b[0m \u001b[32m━━━━━━━━━━━━━━━━━━━━\u001b[0m\u001b[37m\u001b[0m \u001b[1m1s\u001b[0m 37ms/step - loss: 0.0102\n",
            "Epoch 135/150\n",
            "\u001b[1m10/10\u001b[0m \u001b[32m━━━━━━━━━━━━━━━━━━━━\u001b[0m\u001b[37m\u001b[0m \u001b[1m0s\u001b[0m 36ms/step - loss: 0.0100\n",
            "Epoch 136/150\n",
            "\u001b[1m10/10\u001b[0m \u001b[32m━━━━━━━━━━━━━━━━━━━━\u001b[0m\u001b[37m\u001b[0m \u001b[1m0s\u001b[0m 36ms/step - loss: 0.0094\n",
            "Epoch 137/150\n",
            "\u001b[1m10/10\u001b[0m \u001b[32m━━━━━━━━━━━━━━━━━━━━\u001b[0m\u001b[37m\u001b[0m \u001b[1m0s\u001b[0m 36ms/step - loss: 0.0101\n",
            "Epoch 138/150\n",
            "\u001b[1m10/10\u001b[0m \u001b[32m━━━━━━━━━━━━━━━━━━━━\u001b[0m\u001b[37m\u001b[0m \u001b[1m0s\u001b[0m 36ms/step - loss: 0.0100\n",
            "Epoch 139/150\n",
            "\u001b[1m10/10\u001b[0m \u001b[32m━━━━━━━━━━━━━━━━━━━━\u001b[0m\u001b[37m\u001b[0m \u001b[1m1s\u001b[0m 38ms/step - loss: 0.0100\n",
            "Epoch 140/150\n",
            "\u001b[1m10/10\u001b[0m \u001b[32m━━━━━━━━━━━━━━━━━━━━\u001b[0m\u001b[37m\u001b[0m \u001b[1m0s\u001b[0m 36ms/step - loss: 0.0096\n",
            "Epoch 141/150\n",
            "\u001b[1m10/10\u001b[0m \u001b[32m━━━━━━━━━━━━━━━━━━━━\u001b[0m\u001b[37m\u001b[0m \u001b[1m0s\u001b[0m 36ms/step - loss: 0.0098\n",
            "Epoch 142/150\n",
            "\u001b[1m10/10\u001b[0m \u001b[32m━━━━━━━━━━━━━━━━━━━━\u001b[0m\u001b[37m\u001b[0m \u001b[1m0s\u001b[0m 36ms/step - loss: 0.0095\n",
            "Epoch 143/150\n",
            "\u001b[1m10/10\u001b[0m \u001b[32m━━━━━━━━━━━━━━━━━━━━\u001b[0m\u001b[37m\u001b[0m \u001b[1m0s\u001b[0m 37ms/step - loss: 0.0095\n",
            "Epoch 144/150\n",
            "\u001b[1m10/10\u001b[0m \u001b[32m━━━━━━━━━━━━━━━━━━━━\u001b[0m\u001b[37m\u001b[0m \u001b[1m0s\u001b[0m 38ms/step - loss: 0.0105\n",
            "Epoch 145/150\n",
            "\u001b[1m10/10\u001b[0m \u001b[32m━━━━━━━━━━━━━━━━━━━━\u001b[0m\u001b[37m\u001b[0m \u001b[1m0s\u001b[0m 36ms/step - loss: 0.0097\n",
            "Epoch 146/150\n",
            "\u001b[1m10/10\u001b[0m \u001b[32m━━━━━━━━━━━━━━━━━━━━\u001b[0m\u001b[37m\u001b[0m \u001b[1m1s\u001b[0m 40ms/step - loss: 0.0097\n",
            "Epoch 147/150\n",
            "\u001b[1m10/10\u001b[0m \u001b[32m━━━━━━━━━━━━━━━━━━━━\u001b[0m\u001b[37m\u001b[0m \u001b[1m0s\u001b[0m 39ms/step - loss: 0.0099\n",
            "Epoch 148/150\n",
            "\u001b[1m10/10\u001b[0m \u001b[32m━━━━━━━━━━━━━━━━━━━━\u001b[0m\u001b[37m\u001b[0m \u001b[1m0s\u001b[0m 36ms/step - loss: 0.0103\n",
            "Epoch 149/150\n",
            "\u001b[1m10/10\u001b[0m \u001b[32m━━━━━━━━━━━━━━━━━━━━\u001b[0m\u001b[37m\u001b[0m \u001b[1m0s\u001b[0m 36ms/step - loss: 0.0097\n",
            "Epoch 150/150\n",
            "\u001b[1m10/10\u001b[0m \u001b[32m━━━━━━━━━━━━━━━━━━━━\u001b[0m\u001b[37m\u001b[0m \u001b[1m0s\u001b[0m 36ms/step - loss: 0.0091\n"
          ]
        },
        {
          "data": {
            "text/plain": [
              "<keras.src.callbacks.history.History at 0x750cb4a7caf0>"
            ]
          },
          "execution_count": 19,
          "metadata": {},
          "output_type": "execute_result"
        }
      ],
      "source": [
        "model.fit(X_train,Y_train, epochs=EPOCHS, batch_size=72, shuffle=False)"
      ]
    },
    {
      "cell_type": "markdown",
      "id": "V2-xD_hqdS0J",
      "metadata": {
        "id": "V2-xD_hqdS0J"
      },
      "source": [
        "**Saving the updated mode**l\n",
        "\n"
      ]
    },
    {
      "cell_type": "code",
      "execution_count": 20,
      "id": "P04s16CBSmN3",
      "metadata": {
        "colab": {
          "base_uri": "https://localhost:8080/"
        },
        "id": "P04s16CBSmN3",
        "outputId": "6b251899-8609-409c-cb1e-dde1e104428f"
      },
      "outputs": [
        {
          "data": {
            "text/plain": [
              "['GRU_updated_model']"
            ]
          },
          "execution_count": 20,
          "metadata": {},
          "output_type": "execute_result"
        }
      ],
      "source": [
        "joblib.dump(model,'GRU_updated_model')"
      ]
    },
    {
      "cell_type": "code",
      "execution_count": null,
      "id": "eRaL3E2Adg5C",
      "metadata": {
        "id": "eRaL3E2Adg5C"
      },
      "outputs": [],
      "source": []
    }
  ],
  "metadata": {
    "colab": {
      "provenance": []
    },
    "kaggle": {
      "accelerator": "none",
      "dataSources": [
        {
          "datasetId": 1307335,
          "sourceId": 2177559,
          "sourceType": "datasetVersion"
        }
      ],
      "dockerImageVersionId": 30732,
      "isGpuEnabled": false,
      "isInternetEnabled": true,
      "language": "python",
      "sourceType": "notebook"
    },
    "kernelspec": {
      "display_name": "Python 3",
      "language": "python",
      "name": "python3"
    },
    "language_info": {
      "codemirror_mode": {
        "name": "ipython",
        "version": 3
      },
      "file_extension": ".py",
      "mimetype": "text/x-python",
      "name": "python",
      "nbconvert_exporter": "python",
      "pygments_lexer": "ipython3",
      "version": "3.10.13"
    },
    "papermill": {
      "default_parameters": {},
      "duration": 199.199196,
      "end_time": "2024-06-22T14:58:41.380014",
      "environment_variables": {},
      "exception": null,
      "input_path": "__notebook__.ipynb",
      "output_path": "__notebook__.ipynb",
      "parameters": {},
      "start_time": "2024-06-22T14:55:22.180818",
      "version": "2.5.0"
    }
  },
  "nbformat": 4,
  "nbformat_minor": 5
}
